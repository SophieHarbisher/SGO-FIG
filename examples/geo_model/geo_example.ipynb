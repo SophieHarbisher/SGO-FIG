{
 "cells": [
  {
   "cell_type": "markdown",
   "metadata": {},
   "source": [
    "## Example: Geostatistical regression application\n",
    "\n",
    "In this notebook we provide an example which finds the optimal design for the geostatistical regression model using stochastic gradient descent (SGD)."
   ]
  },
  {
   "cell_type": "markdown",
   "metadata": {},
   "source": [
    "#### Data Model\n",
    "\n",
    "In this section we consider a geostatistic regression model using 2 dimensions. We wish to search for $n$ coordinates where observations should be made to maximise the utility function.\n",
    "\n",
    "Here we consider a model which assumes normal observations with a linear trend and squared exponential covariance function with a nugget effect.\n",
    "\n",
    "$$\n",
    "\\begin{align*}\n",
    "y &\\sim N_m(x(\\theta, \\tau), \\Sigma(\\tau)), \\\\\n",
    "x_i &= \\theta_1 \\tau_{i1} + \\theta_2 \\tau_{i2}, \\\\\n",
    "\\Sigma &= \\sigma_1^2 I + \\sigma_2^2 R(\\tau) \\\\\n",
    "R_{ij} &= \\exp \\bigg[-\\sum_{k=1}^2 (\\tau_{ik} - \\tau_{jk})^2 / \\ell^2 \\bigg]\n",
    "\\end{align*}\n",
    "$$\n",
    "\n",
    "For simplicity we assume that $\\sigma_1, \\sigma_2$ (observation variance components) and $\\ell$ (covariance length scale) are known, and the unknown parameters are $\\theta_1$ and $\\theta_2$ (trends).\n",
    "\n",
    "We define an alternative parameterisation by setting $\\kappa = \\sigma_1^2 + \\sigma_2^2$ and $\\gamma = \\frac{\\sigma_1^2}{\\sigma_1^2 + \\sigma_2^2}$ yielding $\\Sigma = \\kappa [\\gamma I + (1-\\gamma) R]$."
   ]
  },
  {
   "cell_type": "markdown",
   "metadata": {},
   "source": [
    "#### Utility Function\n",
    "\n",
    "In this illustration we use the fisher information gain (FIG) as the chosen utility function. This quantifies how much is leaned about the parameter of interest at a given design time.\n",
    "\n",
    "For the geostatistical model the FIG is given by\n",
    "\n",
    "$$\n",
    "\\text{tr} \\mathcal{I}(\\tau)\n",
    "= \\sum_{i=1}^d \\tau_i^T \\Sigma(\\tau)^{-1} \\tau_i,\n",
    "$$\n",
    "\n",
    "Note this does not depend on $\\theta$ and so $U_{FIG}(\\tau) = \\text{tr} \\mathcal{I}(\\tau)$ can be calculated exactly.\n",
    "\n",
    "Also note that $\\kappa$ only affects $U_{FIG}$ as a constant of proportionality, so it does not change the optimal design."
   ]
  },
  {
   "cell_type": "markdown",
   "metadata": {},
   "source": [
    "#### Using SGD to target the optimal design\n",
    "\n",
    "Here we use the Tensorflow module to implement a SGD algorithm on the loss function (negated utility function) searching over the design space. Any SGD method can be applied; here we use the adaptive moment estimation (Adam)."
   ]
  },
  {
   "cell_type": "markdown",
   "metadata": {},
   "source": [
    "## Implementation using Tensorflow"
   ]
  },
  {
   "cell_type": "markdown",
   "metadata": {},
   "source": [
    "First import the dependencies."
   ]
  },
  {
   "cell_type": "code",
   "execution_count": 2,
   "metadata": {},
   "outputs": [],
   "source": [
    "import tensorflow as tf\n",
    "import tensorflow_probability as tfp\n",
    "import numpy as np\n",
    "import matplotlib.pyplot as plt"
   ]
  },
  {
   "cell_type": "markdown",
   "metadata": {},
   "source": [
    "Define the constants. Here we randomly generate the initial state uniformly over the search space $\\big[-\\frac{1}{2}, \\frac{1}{2} \\big]^2$."
   ]
  },
  {
   "cell_type": "code",
   "execution_count": 3,
   "metadata": {},
   "outputs": [],
   "source": [
    "nsensors = 100 #set the number of sensors to use (i.e. number of coordinates at which to make observations)\n",
    "\n",
    "initial_design = np.random.uniform(low=-0.5, high=0.5, size=[nsensors, 2]) #sample an initial state\n",
    "\n",
    "# use the sampled initial_design as the value to initialise the design at\n",
    "design = tf.Variable(tf.constant(initial_design, dtype=tf.float32))"
   ]
  },
  {
   "cell_type": "markdown",
   "metadata": {},
   "source": [
    "We now set the values for $\\ell$ and $\\gamma$."
   ]
  },
  {
   "cell_type": "code",
   "execution_count": 4,
   "metadata": {},
   "outputs": [],
   "source": [
    "l = np.sqrt(0.001)  #length scale\n",
    "gam = 0.1 #weighting between additive error and correlation between observations"
   ]
  },
  {
   "cell_type": "markdown",
   "metadata": {},
   "source": [
    "Next we define the model and FIG using Tensorflow. Note that we are using a descent algorithm rather than an ascent algorithm hence by default this will minimise the objective function. Thus the loss function, defined the negated utility function, is used as the objective function here."
   ]
  },
  {
   "cell_type": "code",
   "execution_count": 5,
   "metadata": {},
   "outputs": [],
   "source": [
    "# define a function to compute the squared differences between the observations\n",
    "def squared_diff(A):\n",
    "    r = tf.reduce_sum(A*A, 1)\n",
    "    r = tf.reshape(r, [-1, 1])\n",
    "    return r - 2*tf.matmul(A, tf.transpose(A)) + tf.transpose(r)\n",
    "\n",
    "# compute the squared differences\n",
    "norms_mat = squared_diff(design)\n",
    "#correlation is squared exponential\n",
    "cor = tf.exp(-norms_mat / l**2.)\n",
    "\n",
    "# calculate covariance matrix\n",
    "Sigma = tf.constant(gam) * tf.diag(np.ones(nsensors, dtype=np.float32)) + (1-tf.constant(gam))*cor\n",
    "#compute inverse\n",
    "Sigma_inv = tf.matrix_inverse(Sigma)\n",
    "\n",
    "# compute FIG\n",
    "fig = tf.trace(tf.matmul(design, tf.matmul(Sigma_inv, design), transpose_a=True))\n",
    "# compute the (unpenalised) loss function (-FIG), based on only 1 estimate being used in MC estimate\n",
    "loss_nopen = -fig"
   ]
  },
  {
   "cell_type": "markdown",
   "metadata": {},
   "source": [
    "Need to define a penalty function to ensure observations are within the search space."
   ]
  },
  {
   "cell_type": "code",
   "execution_count": 6,
   "metadata": {},
   "outputs": [],
   "source": [
    "# function to penalise design times above a set threshold\n",
    "def maxthrespen(th, thres, k = 10000.):\n",
    "    with tf.name_scope(\"maxthrespen\"):\n",
    "        max_des = tf.reduce_max(th)\n",
    "        over_thres = tf.maximum(max_des - thres, 0.0)\n",
    "        out = k * over_thres\n",
    "    return out\n",
    "\n",
    "# function to penalise design times above a set threshold\n",
    "def minthrespen(th, thres, k = 10000.):\n",
    "    with tf.name_scope(\"minthrespen\"):\n",
    "        min_des = tf.reduce_min(th)\n",
    "        over_thres = tf.minimum(min_des - thres, 0.0)\n",
    "        out = -1.0 * k * over_thres\n",
    "    return out\n",
    "\n",
    "# add penalties for any observations outside unit square centered at the origin\n",
    "pen = minthrespen(design, thres = -0.5, k=100.) + maxthrespen(design, thres = 0.5, k=100.)\n",
    "\n",
    "# overall loss function with penalties added\n",
    "loss = loss_nopen + pen"
   ]
  },
  {
   "cell_type": "markdown",
   "metadata": {},
   "source": [
    "Next, we define the optimiser and initialise the global variables."
   ]
  },
  {
   "cell_type": "code",
   "execution_count": 7,
   "metadata": {},
   "outputs": [],
   "source": [
    "optimiser = tf.train.AdamOptimizer()\n",
    "train = optimiser.minimize(loss, var_list = [design])\n",
    "init = tf.global_variables_initializer()"
   ]
  },
  {
   "cell_type": "markdown",
   "metadata": {},
   "source": [
    "We can now run the stochastic optimisation for a set number of iterations. Here we will use $2 \\times 10^3$ iterations."
   ]
  },
  {
   "cell_type": "code",
   "execution_count": 8,
   "metadata": {},
   "outputs": [
    {
     "name": "stdout",
     "output_type": "stream",
     "text": [
      "Current loop: 199  Current utility: 30.266\r"
     ]
    }
   ],
   "source": [
    "# split the iterations into blocks so that it is easy to include a convergence criterion\n",
    "# also reduces memory required if lots of iterations are required\n",
    "nloops = 200\n",
    "its_per_loop = 10\n",
    "\n",
    "iterations = np.zeros(nloops)\n",
    "designs = np.zeros([nloops, nsensors, 2])\n",
    "losses = np.zeros(nloops)\n",
    "with tf.Session() as sess:\n",
    "    sess.run(init)\n",
    "    for i in range(nloops):\n",
    "        mean_loss = 0.\n",
    "        for j in range(its_per_loop):\n",
    "            next_loss, next_design, Sig, _ = sess.run([loss_nopen, design, Sigma, train])\n",
    "            mean_loss += next_loss\n",
    "        mean_loss /= its_per_loop\n",
    "        print(\"Current loop: {:3d}  Current utility: {:.3f}\".format(i, -1.* mean_loss), end=\"\\r\")\n",
    "        iterations[i] = i*its_per_loop\n",
    "        designs[i, :, :] = next_design\n",
    "        losses[i] = mean_loss\n",
    "        mean_loss = 0."
   ]
  },
  {
   "cell_type": "markdown",
   "metadata": {},
   "source": [
    "Now we can make plots of the output."
   ]
  },
  {
   "cell_type": "code",
   "execution_count": 9,
   "metadata": {},
   "outputs": [
    {
     "data": {
      "image/png": "[encoded data removed]",
      "text/plain": [
       "<matplotlib.figure.Figure at 0x7f5f90e71e80>"
      ]
     },
     "metadata": {
      "needs_background": "light"
     },
     "output_type": "display_data"
    }
   ],
   "source": [
    "fig = plt.figure()\n",
    "fig.set_size_inches(12,6)\n",
    "\n",
    "# plot the trace of the utility\n",
    "plt.subplot(1,2,1)\n",
    "plt.plot(iterations,-losses); plt.title('Utility') # utility = -1 * loss\n",
    "plt.xlabel('Iterations')\n",
    "\n",
    "# plot the trace of the design\n",
    "plt.subplot(1,2,2)\n",
    "plt.plot(designs[nloops-1,:,0], designs[nloops-1,:,1], \"o\")\n",
    "plt.title('Returned Design')\n",
    "plt.ylabel(r'$x_2$')\n",
    "plt.xlabel(r'$x_1$')\n",
    "\n",
    "plt.show()"
   ]
  }
 ],
 "metadata": {
  "kernelspec": {
   "display_name": "Python 3",
   "language": "python",
   "name": "python3"
  },
  "language_info": {
   "codemirror_mode": {
    "name": "ipython",
    "version": 3
   },
   "file_extension": ".py",
   "mimetype": "text/x-python",
   "name": "python",
   "nbconvert_exporter": "python",
   "pygments_lexer": "ipython3",
   "version": "3.6.6"
  }
 },
 "nbformat": 4,
 "nbformat_minor": 2
}
