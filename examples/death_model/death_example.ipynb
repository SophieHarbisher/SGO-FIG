{
 "cells": [
  {
   "cell_type": "markdown",
   "metadata": {},
   "source": [
    "## Illustration: simple death model\n",
    "\n",
    "In this notebook we provide an example which finds the optimal design for the simple death model using stochastic gradient descent (SGD)."
   ]
  },
  {
   "cell_type": "markdown",
   "metadata": {},
   "source": [
    "#### Data Model\n",
    "\n",
    "Consider the simple death model with a single observation time, $\\tau$. In this scenario the observation model is $Y \\sim Bin(n, \\lambda)$ where $\\lambda = e^{-\\theta \\tau}$. Here $n$ is a known constant and $\\theta$ is the parameter of interest.\n",
    "\n",
    "Following the example of previous work, we take a $LN(−0.005, 0.01)$ prior distribution for $\\theta$ and $n=50$."
   ]
  },
  {
   "cell_type": "markdown",
   "metadata": {},
   "source": [
    "#### Utility Function\n",
    "\n",
    "In this illustration we use the fisher information gain (FIG) as the chosen utility function. This quantifies how much is leaned about the parameter of interest at a given design time.\n",
    "\n",
    "For the death model the FIG is given by\n",
    "\n",
    "$$\n",
    "I_\\theta(\\theta) =\n",
    "\\frac{n \\tau^2 \\lambda}{1-\\lambda} =\n",
    "\\frac{n \\tau^2 e^{-\\theta\\tau}}{1-e^{-\\theta\\tau}},\n",
    "$$\n",
    "\n",
    "and utility\n",
    "\n",
    "$$\n",
    "U_{FIG}(\\tau) = \\mathbb{E}_\\theta[ I_\\theta(\\theta) ].\n",
    "$$\n",
    "\n",
    "To estimate the expectation over $\\theta$, a Monte Carlo estimate is used."
   ]
  },
  {
   "cell_type": "markdown",
   "metadata": {},
   "source": [
    "#### Using SGD to target the optimal design\n",
    "\n",
    "Here we use the Tensorflow module to implement a SGD algorithm on the loss function (negated utility function) searching over the design space. Any SGD method can be applied; here we use the adaptive moment estimation (Adam)."
   ]
  },
  {
   "cell_type": "markdown",
   "metadata": {},
   "source": [
    "#### 1d utility surface"
   ]
  },
  {
   "cell_type": "markdown",
   "metadata": {},
   "source": [
    "<figure>\n",
    "  <img src=\"simple_death_1d.png\" alt=\"Drawing\"/>\n",
    "  <figcaption>Plot of the utility surface with the optimal design indicated.</figcaption>\n",
    "</figure>"
   ]
  },
  {
   "cell_type": "markdown",
   "metadata": {},
   "source": [
    "## Implementation using Tensorflow"
   ]
  },
  {
   "cell_type": "markdown",
   "metadata": {},
   "source": [
    "First import the dependencies."
   ]
  },
  {
   "cell_type": "code",
   "execution_count": 2,
   "metadata": {},
   "outputs": [],
   "source": [
    "import tensorflow as tf\n",
    "import numpy as np\n",
    "import matplotlib.pyplot as plt"
   ]
  },
  {
   "cell_type": "markdown",
   "metadata": {},
   "source": [
    "Define the constants. Here we randomly generate the initial state uniformly over the search space $[0,10]$."
   ]
  },
  {
   "cell_type": "code",
   "execution_count": 3,
   "metadata": {},
   "outputs": [],
   "source": [
    "n = 50. #this is the initial population size, i.e. population at time 0\n",
    "\n",
    "initial_design = np.random.uniform(low=0., high=10., size=[]) #sample an initial state"
   ]
  },
  {
   "cell_type": "markdown",
   "metadata": {},
   "source": [
    "Next we define the model and FIG using Tensorflow. Note that we are using a descent algorithm rather than an ascent algorithm hence by default this will minimise the objective function. Thus the loss function, defined the negated utility function, is used as the objective function here."
   ]
  },
  {
   "cell_type": "code",
   "execution_count": 4,
   "metadata": {},
   "outputs": [],
   "source": [
    "# use the sampled initial_design as the value to initialise the design at\n",
    "design = tf.Variable(tf.constant(initial_design, dtype=tf.float32))\n",
    "# sample theta from a log-Normal distribution\n",
    "theta = tf.exp(tf.random_normal([], mean=-0.005, stddev=np.sqrt(0.01)))\n",
    "# calculate lambda\n",
    "prob = tf.exp(-1. * theta * design)\n",
    "# compute FIG\n",
    "fig = tf.pow(design, 2.) * n * prob / (1 - prob)\n",
    "# compute the loss function (-FIG), based on only 1 estimate being used in MC estimate\n",
    "loss = -tf.reduce_mean(fig)"
   ]
  },
  {
   "cell_type": "markdown",
   "metadata": {},
   "source": [
    "Next, we define the optimiser and initialise the global variables."
   ]
  },
  {
   "cell_type": "code",
   "execution_count": 5,
   "metadata": {},
   "outputs": [],
   "source": [
    "optimiser = tf.train.AdamOptimizer()\n",
    "train = optimiser.minimize(loss)\n",
    "init = tf.global_variables_initializer()"
   ]
  },
  {
   "cell_type": "markdown",
   "metadata": {},
   "source": [
    "We can now run the stochastic optimisation for a set number of iterations. Here we will use $5 \\times 10^4$ iterations."
   ]
  },
  {
   "cell_type": "code",
   "execution_count": 6,
   "metadata": {},
   "outputs": [
    {
     "name": "stdout",
     "output_type": "stream",
     "text": [
      "Current loop: 499  Current utility: 33.113\r"
     ]
    }
   ],
   "source": [
    "# split the iterations into blocks so that it is easy to include a convergence criterion\n",
    "# also reduces memory required if lots of iterations are required\n",
    "nloops = 500\n",
    "its_per_loop = 100\n",
    "\n",
    "iterations = np.zeros(nloops)\n",
    "designs = np.zeros(nloops)\n",
    "losses = np.zeros(nloops)\n",
    "with tf.Session() as sess:\n",
    "    sess.run(init)\n",
    "    for i in range(nloops):\n",
    "        mean_loss = 0.\n",
    "        for j in range(its_per_loop):\n",
    "            next_loss, next_design, _ = sess.run([loss, design, train])\n",
    "            mean_loss += next_loss\n",
    "        mean_loss /= its_per_loop\n",
    "        print(\"Current loop: {:3d}  Current utility: {:.3f}\".format(i, -1.* mean_loss), end=\"\\r\")\n",
    "        iterations[i] = i*its_per_loop\n",
    "        designs[i] = next_design\n",
    "        losses[i] = mean_loss\n",
    "        mean_loss = 0."
   ]
  },
  {
   "cell_type": "markdown",
   "metadata": {},
   "source": [
    "Now we can make plots of the output."
   ]
  },
  {
   "cell_type": "code",
   "execution_count": 7,
   "metadata": {},
   "outputs": [
    {
     "data": {
      "image/png": "[encoded data removed]",
      "text/plain": [
       "<matplotlib.figure.Figure at 0x7fac264ea208>"
      ]
     },
     "metadata": {
      "needs_background": "light"
     },
     "output_type": "display_data"
    }
   ],
   "source": [
    "fig = plt.figure()\n",
    "fig.set_size_inches(12,6)\n",
    "\n",
    "# plot the trace of the utility\n",
    "plt.subplot(1,2,1)\n",
    "plt.plot(iterations,-losses); plt.title('Utility') # utility = -1 * loss\n",
    "plt.xlabel('Iterations')\n",
    "\n",
    "# plot the trace of the design\n",
    "plt.subplot(1,2,2)\n",
    "plt.plot(iterations, designs)\n",
    "plt.ylim(0,10)\n",
    "plt.title('SGD trace')\n",
    "plt.xlabel('Iterations')\n",
    "\n",
    "plt.show()"
   ]
  }
 ],
 "metadata": {
  "kernelspec": {
   "display_name": "Python 3",
   "language": "python",
   "name": "python3"
  },
  "language_info": {
   "codemirror_mode": {
    "name": "ipython",
    "version": 3
   },
   "file_extension": ".py",
   "mimetype": "text/x-python",
   "name": "python",
   "nbconvert_exporter": "python",
   "pygments_lexer": "ipython3",
   "version": "3.6.6"
  }
 },
 "nbformat": 4,
 "nbformat_minor": 2
}
